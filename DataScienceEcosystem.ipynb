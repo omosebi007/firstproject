{
 "cells": [
  {
   "cell_type": "markdown",
   "id": "53531a46-96b4-4947-b6ab-66e50985350b",
   "metadata": {},
   "source": [
    "# Data Science Tools and Ecosystem"
   ]
  },
  {
   "cell_type": "markdown",
   "id": "3092c0dd-db85-43ae-b56d-0b0eca73bc7b",
   "metadata": {},
   "source": [
    "## In this notebook, Data Science Tools and Ecosystem are summarized."
   ]
  },
  {
   "cell_type": "markdown",
   "id": "8096b3db-f1a5-4724-a445-bb2122c7d0fe",
   "metadata": {},
   "source": [
    "### Some of the popular languages that Data Scientists use are:\n",
    "## 1. Python\n",
    "## 2. R\n",
    "## 3. SQL"
   ]
  },
  {
   "cell_type": "markdown",
   "id": "20a7b7d1-0b19-45cc-a943-e710801b864f",
   "metadata": {},
   "source": [
    "### Some of the commonly used libraries used by Data Scientists include:\n",
    "## 1. Panda \n",
    "## 2. Numpy \n",
    "## 3. TensorFlow\n",
    "## 4. PyTorch"
   ]
  },
  {
   "cell_type": "markdown",
   "id": "1a96a9ff-682b-4aea-a81b-ccc106eeb30c",
   "metadata": {},
   "source": [
    "# Data Science Tools\n",
    "###  The three development environment open source tools used in data science are listed below;\n",
    "## 1. Jupyter Notebook\n",
    "## 2. RStudio\n",
    "## 3. Visual Studio Code"
   ]
  },
  {
   "cell_type": "markdown",
   "id": "375f8736-1ef5-4e77-aba4-0298c0105b8e",
   "metadata": {},
   "source": [
    "### Below are a few examples of evaluating arithmetic expressions in Python"
   ]
  },
  {
   "cell_type": "code",
   "execution_count": 20,
   "id": "4a0bdd92-181b-4d59-a0f8-0ef04800a0bf",
   "metadata": {},
   "outputs": [
    {
     "data": {
      "text/plain": [
       "17"
      ]
     },
     "execution_count": 20,
     "metadata": {},
     "output_type": "execute_result"
    }
   ],
   "source": [
    "(3*4)+5\n",
    "#This a simple arithmetic expression to mutiply then add integers\n"
   ]
  },
  {
   "cell_type": "code",
   "execution_count": 21,
   "id": "4c1ed9bb-02d5-4f0e-a7a1-fa628c6eeefc",
   "metadata": {},
   "outputs": [
    {
     "data": {
      "text/plain": [
       "3.3333333333333335"
      ]
     },
     "execution_count": 21,
     "metadata": {},
     "output_type": "execute_result"
    }
   ],
   "source": [
    "200 / 60\n",
    "# This will convert 200 minutes to hours by diving by 60"
   ]
  },
  {
   "cell_type": "markdown",
   "id": "b42ed560-d4a3-4f76-a7a5-91f8c7d560e1",
   "metadata": {},
   "source": [
    "# **Objectives**\n",
    "- Python\n",
    "- R\n",
    "- SQL\n",
    "- Julia\n",
    "- Scala"
   ]
  },
  {
   "cell_type": "markdown",
   "id": "5d71e74f-23dc-479a-a9f1-8e0ae7ff61e1",
   "metadata": {},
   "source": [
    "## **Author**\n",
    "# Omosebi Michael"
   ]
  },
  {
   "cell_type": "code",
   "execution_count": null,
   "id": "ec9d25d9-7885-4a0e-8811-3aefd043fdf0",
   "metadata": {},
   "outputs": [],
   "source": []
  }
 ],
 "metadata": {
  "kernelspec": {
   "display_name": "Python 3 (ipykernel)",
   "language": "python",
   "name": "python3"
  },
  "language_info": {
   "codemirror_mode": {
    "name": "ipython",
    "version": 3
   },
   "file_extension": ".py",
   "mimetype": "text/x-python",
   "name": "python",
   "nbconvert_exporter": "python",
   "pygments_lexer": "ipython3",
   "version": "3.12.4"
  }
 },
 "nbformat": 4,
 "nbformat_minor": 5
}
